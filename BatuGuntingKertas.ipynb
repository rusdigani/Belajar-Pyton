{
  "cells": [
    {
      "cell_type": "markdown",
      "metadata": {
        "id": "view-in-github",
        "colab_type": "text"
      },
      "source": [
        "<a href=\"https://colab.research.google.com/github/rusdigani/Belajar-Pyton/blob/main/BatuGuntingKertas.ipynb\" target=\"_parent\"><img src=\"https://colab.research.google.com/assets/colab-badge.svg\" alt=\"Open In Colab\"/></a>"
      ]
    },
    {
      "cell_type": "code",
      "execution_count": 21,
      "metadata": {
        "id": "TpZ8A0kf6Dy7",
        "colab": {
          "base_uri": "https://localhost:8080/"
        },
        "outputId": "8d29beca-8ecf-46fe-fc91-768a8182728a"
      },
      "outputs": [
        {
          "name": "stdout",
          "output_type": "stream",
          "text": [
            "Memulai permainan Batu Kertas Gunting!\n",
            "Masukkan nama Anda: Rusdi Abdul Gani\n",
            "Pilih tangan: (0: Batu, 1: Kertas, 2: Gunting)\n",
            "Masukkan nomor (0-2): 1\n",
            "Play again? (y/n): y\n",
            "Rusdi Abdul Gani memilih: Kertas\n",
            "Komputer memilih: Gunting\n",
            "Hasil: Kalah\n",
            "Pilih tangan: (0: Batu, 1: Kertas, 2: Gunting)\n",
            "Masukkan nomor (0-2): 2\n",
            "Rusdi Abdul Gani memilih: Gunting\n",
            "Komputer memilih: Batu\n",
            "Hasil: Kalah\n",
            "Play again? (y/n): n\n"
          ]
        }
      ],
      "source": [
        "from random import randint\n",
        "def validate(hand):\n",
        "\t\tif hand < 0 or hand > 2:\n",
        "\t\t\treturn False\n",
        "\t\treturn True\n",
        "\n",
        "def print_hand(hand, name='Tamu'):\n",
        "\t\thands = ['Batu', 'Kertas', 'Gunting']\n",
        "\t\tprint(name + ' memilih: ' + hands[hand])\n",
        "\n",
        "def judge(player, computer):\n",
        "\t\tif player == computer:\n",
        "\t\t\treturn 'Seri'\n",
        "\t\telif player == 0 and computer == 1:\n",
        "\t\t\treturn 'Kalah'\n",
        "\t\telif player == 1 and computer == 2:\n",
        "\t\t\treturn 'Kalah'\n",
        "\t\telif player == 2 and computer == 0:\n",
        "\t\t\treturn 'Kalah'\n",
        "\t\telse:\n",
        "\t\t\treturn 'Menang'\n",
        "\n",
        "print('Memulai permainan Batu Kertas Gunting!')\n",
        "player_name = input('Masukkan nama Anda: ')\n",
        "\n",
        "while True:\n",
        "  print('Pilih tangan: (0: Batu, 1: Kertas, 2: Gunting)')\n",
        "  player_hand = int(input('Masukkan nomor (0-2): '))\n",
        "\n",
        "  if validate(player_hand):\n",
        "    computer_hand = randint(0, 2)\n",
        "   \n",
        "    print_hand(player_hand, player_name)\n",
        "    print_hand(computer_hand, 'Komputer')\n",
        "      \n",
        "    result = judge(player_hand, computer_hand)\n",
        "    print('Hasil: '+result)\n",
        "\n",
        "    play_again = input(\"Play again? (y/n): \")\n",
        "    if play_again.lower() != \"y\":\n",
        "      break\n",
        "  else:\n",
        "    print('Mohon masukkan nomor yang benar')\n",
        "    "
      ]
    }
  ],
  "metadata": {
    "colab": {
      "name": "BatuGuntingKertas.ipynb",
      "provenance": [],
      "authorship_tag": "ABX9TyN4j5T/CfWeghZwLCaD5MUJ",
      "include_colab_link": true
    },
    "kernelspec": {
      "display_name": "Python 3",
      "name": "python3"
    },
    "language_info": {
      "name": "python"
    }
  },
  "nbformat": 4,
  "nbformat_minor": 0
}